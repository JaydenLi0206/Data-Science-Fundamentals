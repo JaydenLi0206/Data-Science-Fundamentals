{
 "cells": [
  {
   "attachments": {},
   "cell_type": "markdown",
   "metadata": {},
   "source": [
    "# Worksheet 08\n",
    "\n",
    "Name:  Junyi Li\n",
    "UID: U13632870\n",
    "\n",
    "### Topics\n",
    "\n",
    "- Soft Clustering\n",
    "- Clustering Aggregation\n",
    "\n",
    "### Probability Review\n",
    "\n",
    "Read through [the following](https://medium.com/@gallettilance/overview-of-probability-3272b72c82c8)\n",
    "\n",
    "### Soft Clustering\n",
    "\n",
    "We generate 10 data points that come from a normal distribution with mean 5 and variance 1."
   ]
  },
  {
   "cell_type": "code",
   "execution_count": 13,
   "metadata": {},
   "outputs": [
    {
     "name": "stdout",
     "output_type": "stream",
     "text": [
      "[5.761123337832542, 5.606097303286519, 4.672973244052401, 4.263337301943059, 4.885304624670285, 5.312813950733295, 5.897782154140424, 7.268062421811974, 3.7263547736183344, 4.2176964628120865]\n"
     ]
    }
   ],
   "source": [
    "import random\n",
    "import numpy as np\n",
    "from sklearn.cluster import KMeans\n",
    "\n",
    "mean = 5\n",
    "stdev = 1\n",
    "\n",
    "s1 = np.random.normal(mean, stdev, 10).tolist()\n",
    "print(s1)"
   ]
  },
  {
   "cell_type": "markdown",
   "metadata": {},
   "source": [
    "a) Generate 10 more data points, this time coming from a normal distribution with mean 8 and variance 1."
   ]
  },
  {
   "cell_type": "code",
   "execution_count": 14,
   "metadata": {},
   "outputs": [
    {
     "name": "stdout",
     "output_type": "stream",
     "text": [
      "[7.947198560989889, 8.440322359443078, 7.103084233255676, 7.251937582771932, 7.720156938405643, 8.000448429826323, 7.1722594575913, 8.678276505170833, 7.1218556217597095, 9.861594890520134]\n"
     ]
    }
   ],
   "source": [
    "s2 = np.random.normal( 8,1,10 ).tolist()\n",
    "print(s2)"
   ]
  },
  {
   "cell_type": "markdown",
   "metadata": {},
   "source": [
    "b) Flip a fair coin 10 times. If the coin lands on H, then pick the last data point of `c1` and remove it from `c1`, if T then pick the last data point from `c2` and remove it from `c2`. Add these 10 points to a list called `data`."
   ]
  },
  {
   "cell_type": "code",
   "execution_count": 15,
   "metadata": {},
   "outputs": [
    {
     "name": "stdout",
     "output_type": "stream",
     "text": [
      "[4.2176964628120865, 3.7263547736183344, 9.861594890520134, 7.1218556217597095, 8.678276505170833, 7.268062421811974, 5.897782154140424, 5.312813950733295, 4.885304624670285, 4.263337301943059]\n"
     ]
    }
   ],
   "source": [
    "data = []\n",
    "for i in range(10):\n",
    "    # flip coin\n",
    "    coin_output = random.choice([0, 1])\n",
    "    if coin_output == 0:\n",
    "        p1 = s1.pop()\n",
    "        data.append(p1)\n",
    "    else:\n",
    "        p2 = s2.pop()\n",
    "        data.append(p2)\n",
    "print(data)"
   ]
  },
  {
   "cell_type": "markdown",
   "metadata": {},
   "source": [
    "c) This `data` is a Gaussian Mixture Distribution with 2 mixture components. Over the next few questions we will walk through the GMM algorithm to see if we can uncover the parameters we used to generate this data. First, please list all these parameters of the GMM that created `data` and the values we know they have."
   ]
  },
  {
   "cell_type": "markdown",
   "metadata": {},
   "source": [
    "Means，Variance, Mixture weight"
   ]
  },
  {
   "cell_type": "markdown",
   "metadata": {},
   "source": [
    "d) Let's assume there are two mixture components (note: we could plot the data and make the observation that there are two clusters). The EM algorithm asks us to start with a random `mean_j`, `variance_j`, `P(S_j)` for each component j. One method we could use to find sensible values for these is to apply K means with k=2 here.\n",
    "\n",
    "1. the centroids would be the estimates of the `mean_j`\n",
    "2. the intra-cluster variance could be the estimate of `variance_j`\n",
    "3. the proportion of points in each cluster could be the estimate of `P(S_j)`\n",
    "\n",
    "Go through this process and list the parameter estimates it gives. Are they close or far from the true values?"
   ]
  },
  {
   "cell_type": "code",
   "execution_count": 18,
   "metadata": {},
   "outputs": [
    {
     "name": "stdout",
     "output_type": "stream",
     "text": [
      "[9.861594890520134, 7.1218556217597095, 8.678276505170833, 7.268062421811974]\n",
      "[4.2176964628120865, 3.7263547736183344, 5.897782154140424, 5.312813950733295, 4.885304624670285, 4.263337301943059]\n",
      "P(S_1) = 0.4,  P(S_2) = 0.6\n",
      "mean_1 = 8.232447359815664,  mean_2 = 4.7172148779862475\n",
      "var_1 = 1.2540844052337798,  var_2 = 0.5356764599140794\n"
     ]
    }
   ],
   "source": [
    "kmeans = KMeans(2, init='k-means++').fit(X=np.array(data).reshape(-1, 1))\n",
    "\n",
    "s1 = [x[0] for x in filter(lambda x: x[1] == 0, zip(data, kmeans.labels_))]\n",
    "print(s1)\n",
    "s2 = [x[0] for x in filter(lambda x: x[1] == 1, zip(data, kmeans.labels_))]\n",
    "print(s2)\n",
    "\n",
    "prob_s = [ len(s1) / (len(s1) + len(s2)) , len(s2) / (len(s1) + len(s2)) ]\n",
    "mean = [ sum(s1)/len(s1) , sum(s2)/len(s2) ]\n",
    "var = [sum(map(lambda x : (x - mean[0])**2, s1)) / len(s1) , sum(map(lambda x : (x - mean[1])**2, s2)) / len(s2)]\n",
    "\n",
    "print(\"P(S_1) = \" + str(prob_s[0]) + \",  P(S_2) = \" + str(prob_s[1]))\n",
    "print(\"mean_1 = \" + str(mean[0]) + \",  mean_2 = \" + str(mean[1]))\n",
    "print(\"var_1 = \" + str(var[0]) + \",  var_2 = \" + str(var[1]))"
   ]
  },
  {
   "cell_type": "markdown",
   "metadata": {},
   "source": []
  },
  {
   "cell_type": "markdown",
   "metadata": {},
   "source": [
    "e) For each data point, compute `P(S_j | X_i)`. Comment on which cluster you think each point belongs to based on the estimated probabilities. How does that compare to the truth?"
   ]
  },
  {
   "cell_type": "code",
   "execution_count": 19,
   "metadata": {},
   "outputs": [
    {
     "name": "stdout",
     "output_type": "stream",
     "text": [
      "point =  4.2176964628120865\n",
      "probability of observing that point if it came from cluster 0 =  0.0018929212374552645\n",
      "probability of observing that point if it came from cluster 1 =  0.48215389052551993\n",
      "point =  3.7263547736183344\n",
      "probability of observing that point if it came from cluster 0 =  0.0005001271639897412\n",
      "probability of observing that point if it came from cluster 1 =  0.13459628030438725\n",
      "point =  9.861594890520134\n",
      "probability of observing that point if it came from cluster 0 =  0.13681303900659822\n",
      "probability of observing that point if it came from cluster 1 =  6.999002803574721e-21\n",
      "point =  7.1218556217597095\n",
      "probability of observing that point if it came from cluster 0 =  0.21492416855842994\n",
      "probability of observing that point if it came from cluster 1 =  3.135355505013488e-05\n",
      "point =  8.678276505170833\n",
      "probability of observing that point if it came from cluster 0 =  0.29863445460275345\n",
      "probability of observing that point if it came from cluster 1 =  9.96968760663154e-13\n",
      "point =  7.268062421811974\n",
      "probability of observing that point if it came from cluster 0 =  0.2366859501539319\n",
      "probability of observing that point if it came from cluster 1 =  8.871677853604528e-06\n",
      "point =  5.897782154140424\n",
      "probability of observing that point if it came from cluster 0 =  0.056235158693372866\n",
      "probability of observing that point if it came from cluster 1 =  0.0656603673334952\n",
      "point =  5.312813950733295\n",
      "probability of observing that point if it came from cluster 0 =  0.021165809291138656\n",
      "probability of observing that point if it came from cluster 1 =  0.40138517730983925\n",
      "point =  4.885304624670285\n",
      "probability of observing that point if it came from cluster 0 =  0.009030869720809692\n",
      "probability of observing that point if it came from cluster 1 =  0.7089674975707226\n",
      "point =  4.263337301943059\n",
      "probability of observing that point if it came from cluster 0 =  0.0021254165375419742\n",
      "probability of observing that point if it came from cluster 1 =  0.520133100921028\n",
      "4.2176964628120865\n",
      "Probability of coming from S_1 = 0.0026104802374970096\n",
      "Probability of coming from S_2 = 0.997389519762503\n",
      "\n",
      "3.7263547736183344\n",
      "Probability of coming from S_1 = 0.002471050578533027\n",
      "Probability of coming from S_2 = 0.997528949421467\n",
      "\n",
      "9.861594890520134\n",
      "Probability of coming from S_1 = 1.0\n",
      "Probability of coming from S_2 = 7.67361377365191e-20\n",
      "\n",
      "7.1218556217597095\n",
      "Probability of coming from S_1 = 0.9997812249602839\n",
      "Probability of coming from S_2 = 0.00021877503971612342\n",
      "\n",
      "8.678276505170833\n",
      "Probability of coming from S_1 = 0.9999999999949923\n",
      "Probability of coming from S_2 = 5.007637658476175e-12\n",
      "\n",
      "7.268062421811974\n",
      "Probability of coming from S_1 = 0.999943778797993\n",
      "Probability of coming from S_2 = 5.622120200697773e-05\n",
      "\n",
      "5.897782154140424\n",
      "Probability of coming from S_1 = 0.36345064310726677\n",
      "Probability of coming from S_2 = 0.6365493568927333\n",
      "\n",
      "5.312813950733295\n",
      "Probability of coming from S_1 = 0.03396073402352875\n",
      "Probability of coming from S_2 = 0.9660392659764713\n",
      "\n",
      "4.885304624670285\n",
      "Probability of coming from S_1 = 0.0084205317603284\n",
      "Probability of coming from S_2 = 0.9915794682396716\n",
      "\n",
      "4.263337301943059\n",
      "Probability of coming from S_1 = 0.0027167946224647965\n",
      "Probability of coming from S_2 = 0.9972832053775351\n",
      "\n"
     ]
    }
   ],
   "source": [
    "from scipy.stats import norm\n",
    "\n",
    "prob_s0_x = [] # P(S_0 | X_i)\n",
    "prob_s1_x = [] # P(S_1 | X_i)\n",
    "prob_x = [] # P(X_i)\n",
    "\n",
    "k = 2\n",
    "\n",
    "for p in data:\n",
    "    print(\"point = \", p)\n",
    "    pdf_i = []\n",
    "\n",
    "    for j in range(k):\n",
    "        # P(X_i | S_j)\n",
    "        pdf_i.append(norm.pdf(p, mean[j], var[j]))\n",
    "        print(\"probability of observing that point if it came from cluster \" + str(j) + \" = \", pdf_i[j])\n",
    "        # P(S_j) already computed\n",
    "        prob_s[j]\n",
    "\n",
    "    # P(X_i) = P(S_0)P(X_i | S_0) + P(S_1)P(X_i | S_1)\n",
    "    prob_x = prob_s[0] * pdf_i[0] + prob_s[1] * pdf_i[1]\n",
    "\n",
    "    # P(S_j | X_i) = P(X_i | S_j)P(S_j) / P(X_i)\n",
    "    prob_s0_x.append(pdf_i[0] * prob_s[0] / prob_x)\n",
    "    prob_s1_x.append( pdf_i[1] * prob_s[1] / prob_x)\n",
    "\n",
    "probs = zip(data, prob_s0_x, prob_s1_x)\n",
    "for p in probs:\n",
    "    print(p[0])\n",
    "    print(\"Probability of coming from S_1 = \" + str(p[1]))\n",
    "    print(\"Probability of coming from S_2 = \" + str(p[2]))\n",
    "    print()\n"
   ]
  },
  {
   "cell_type": "markdown",
   "metadata": {},
   "source": [
    "f) Having computed `P(S_j | X_i)`, update the estimates of `mean_j`, `var_j`, and `P(S_j)`. How different are these values from the original ones you got from K means? briefly comment."
   ]
  },
  {
   "cell_type": "code",
   "execution_count": 20,
   "metadata": {},
   "outputs": [
    {
     "name": "stdout",
     "output_type": "stream",
     "text": [
      "P(S_1) = 0.4,  P(S_2) = 0.6\n",
      "mean_1 = 8.00405548782148,  mean_2 = 4.637548940055826\n",
      "var_1 = 1.6508364694569102,  var_2 = 0.4757337530480862\n"
     ]
    }
   ],
   "source": [
    "prob_c = [sum(prob_s0_x)/ len(prob_s0_x), sum(prob_s1_x)/ len(prob_s1_x)]\n",
    "mean = [sum([x[0] * x[1] for x in zip(prob_s0_x, data)]) / sum(prob_s0_x), sum([x[0] * x[1] for x in zip(prob_s1_x, data)]) / sum(prob_s1_x)]\n",
    "var = [sum([x[0] * (x[1] - mean[0])**2 for x in zip(prob_s0_x, data)]) / sum(prob_s0_x), sum([x[0] * (x[1] - mean[1])**2 for x in zip(prob_s1_x, data)]) / sum(prob_s1_x)]\n",
    "\n",
    "print(\"P(S_1) = \" + str(prob_s[0]) + \",  P(S_2) = \" + str(prob_s[1]))\n",
    "print(\"mean_1 = \" + str(mean[0]) + \",  mean_2 = \" + str(mean[1]))\n",
    "print(\"var_1 = \" + str(var[0]) + \",  var_2 = \" + str(var[1]))"
   ]
  },
  {
   "cell_type": "markdown",
   "metadata": {},
   "source": []
  },
  {
   "cell_type": "markdown",
   "metadata": {},
   "source": [
    "g) Update `P(S_j | X_i)`. Comment on any differences or lack thereof you observe."
   ]
  },
  {
   "cell_type": "code",
   "execution_count": 21,
   "metadata": {},
   "outputs": [
    {
     "data": {
      "text/plain": [
       "([0.005571609464995304,\n",
       "  0.003344169354244914,\n",
       "  0.9999999999972242,\n",
       "  0.9946394491132621,\n",
       "  0.999999886909515,\n",
       "  0.9977191822561043,\n",
       "  0.33136116339894034,\n",
       "  0.06054101797394375,\n",
       "  0.01966596447148026,\n",
       "  0.005949247194320306],\n",
       " [0.9944283905350046,\n",
       "  0.9966558306457551,\n",
       "  2.7757990323331187e-12,\n",
       "  0.005360550886737982,\n",
       "  1.1309048499134344e-07,\n",
       "  0.0022808177438957333,\n",
       "  0.6686388366010596,\n",
       "  0.9394589820260563,\n",
       "  0.9803340355285197,\n",
       "  0.9940507528056797])"
      ]
     },
     "execution_count": 21,
     "metadata": {},
     "output_type": "execute_result"
    }
   ],
   "source": [
    "\n",
    "updated_prob_s0_x = []  \n",
    "updated_prob_s1_x = [] \n",
    "for p in data:\n",
    "    pdf_i = []\n",
    "    for j in range(k):\n",
    "        pdf_i.append(norm.pdf(p, mean[j], (var[j]**0.5)))\n",
    "    prob_x = prob_s[0] * pdf_i[0] + prob_s[1] * pdf_i[1]\n",
    "    updated_prob_s0_x.append(pdf_i[0] * prob_s[0] / prob_x)\n",
    "    updated_prob_s1_x.append(pdf_i[1] * prob_s[1] / prob_x)\n",
    "\n",
    "updated_prob_s0_x, updated_prob_s1_x\n"
   ]
  },
  {
   "cell_type": "markdown",
   "metadata": {},
   "source": []
  },
  {
   "cell_type": "markdown",
   "metadata": {},
   "source": [
    "h) Use `P(S_j | X_i)` to create a hard assignment - label each point as belonging to a specific cluster (0 or 1)"
   ]
  },
  {
   "cell_type": "code",
   "execution_count": 22,
   "metadata": {},
   "outputs": [
    {
     "data": {
      "text/plain": [
       "[1, 1, 0, 0, 0, 0, 1, 1, 1, 1]"
      ]
     },
     "execution_count": 22,
     "metadata": {},
     "output_type": "execute_result"
    }
   ],
   "source": [
    "\n",
    "hard_assignments = [0 if prob_s1 >= prob_s2 else 1 for prob_s1, prob_s2 in zip(updated_prob_s0_x, updated_prob_s1_x)]\n",
    "hard_assignments\n"
   ]
  }
 ],
 "metadata": {
  "kernelspec": {
   "display_name": "Python 3",
   "language": "python",
   "name": "python3"
  },
  "language_info": {
   "codemirror_mode": {
    "name": "ipython",
    "version": 3
   },
   "file_extension": ".py",
   "mimetype": "text/x-python",
   "name": "python",
   "nbconvert_exporter": "python",
   "pygments_lexer": "ipython3",
   "version": "3.8.5"
  },
  "orig_nbformat": 4,
  "vscode": {
   "interpreter": {
    "hash": "e7370f93d1d0cde622a1f8e1c04877d8463912d04d973331ad4851f04de6915a"
   }
  }
 },
 "nbformat": 4,
 "nbformat_minor": 2
}
